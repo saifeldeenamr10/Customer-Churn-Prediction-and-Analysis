{
 "cells": [
  {
   "cell_type": "markdown",
   "id": "7834bfa0",
   "metadata": {},
   "source": [
    "# Data Visualization\n",
    "This notebook provides visualizations for churn analysis, including churn rate by tenure and feature importance."
   ]
  },
  {
   "cell_type": "code",
   "execution_count": 2,
   "id": "2ac6d8fb",
   "metadata": {},
   "outputs": [],
   "source": [
    "import pandas as pd\n",
    "import seaborn as sns\n",
    "import matplotlib.pyplot as plt"
   ]
  },
  {
   "cell_type": "code",
   "execution_count": 3,
   "id": "3dcdc42e",
   "metadata": {},
   "outputs": [
    {
     "data": {
      "text/html": [
       "<div>\n",
       "<style scoped>\n",
       "    .dataframe tbody tr th:only-of-type {\n",
       "        vertical-align: middle;\n",
       "    }\n",
       "\n",
       "    .dataframe tbody tr th {\n",
       "        vertical-align: top;\n",
       "    }\n",
       "\n",
       "    .dataframe thead th {\n",
       "        text-align: right;\n",
       "    }\n",
       "</style>\n",
       "<table border=\"1\" class=\"dataframe\">\n",
       "  <thead>\n",
       "    <tr style=\"text-align: right;\">\n",
       "      <th></th>\n",
       "      <th>CreditScore</th>\n",
       "      <th>Age</th>\n",
       "      <th>Tenure</th>\n",
       "      <th>Balance</th>\n",
       "      <th>NumOfProducts</th>\n",
       "      <th>HasCrCard</th>\n",
       "      <th>IsActiveMember</th>\n",
       "      <th>EstimatedSalary</th>\n",
       "      <th>Exited</th>\n",
       "      <th>Complain</th>\n",
       "      <th>Satisfaction Score</th>\n",
       "      <th>Card Type</th>\n",
       "      <th>Point Earned</th>\n",
       "      <th>BalanceToSalary</th>\n",
       "      <th>ProductsPerTenure</th>\n",
       "      <th>Geography_Germany</th>\n",
       "      <th>Geography_Spain</th>\n",
       "      <th>Gender_Male</th>\n",
       "    </tr>\n",
       "  </thead>\n",
       "  <tbody>\n",
       "    <tr>\n",
       "      <th>0</th>\n",
       "      <td>-0.326221</td>\n",
       "      <td>0.293517</td>\n",
       "      <td>-1.041760</td>\n",
       "      <td>-1.225848</td>\n",
       "      <td>1</td>\n",
       "      <td>1</td>\n",
       "      <td>1</td>\n",
       "      <td>0.021886</td>\n",
       "      <td>1</td>\n",
       "      <td>1</td>\n",
       "      <td>2</td>\n",
       "      <td>DIAMOND</td>\n",
       "      <td>464</td>\n",
       "      <td>-0.035804</td>\n",
       "      <td>-0.016781</td>\n",
       "      <td>False</td>\n",
       "      <td>False</td>\n",
       "      <td>False</td>\n",
       "    </tr>\n",
       "    <tr>\n",
       "      <th>1</th>\n",
       "      <td>-0.440036</td>\n",
       "      <td>0.198164</td>\n",
       "      <td>-1.387538</td>\n",
       "      <td>0.117350</td>\n",
       "      <td>1</td>\n",
       "      <td>0</td>\n",
       "      <td>1</td>\n",
       "      <td>0.216534</td>\n",
       "      <td>0</td>\n",
       "      <td>1</td>\n",
       "      <td>3</td>\n",
       "      <td>DIAMOND</td>\n",
       "      <td>456</td>\n",
       "      <td>-0.028930</td>\n",
       "      <td>0.967674</td>\n",
       "      <td>False</td>\n",
       "      <td>True</td>\n",
       "      <td>False</td>\n",
       "    </tr>\n",
       "    <tr>\n",
       "      <th>2</th>\n",
       "      <td>-1.536794</td>\n",
       "      <td>0.293517</td>\n",
       "      <td>1.032908</td>\n",
       "      <td>1.333053</td>\n",
       "      <td>3</td>\n",
       "      <td>1</td>\n",
       "      <td>0</td>\n",
       "      <td>0.240687</td>\n",
       "      <td>1</td>\n",
       "      <td>1</td>\n",
       "      <td>3</td>\n",
       "      <td>DIAMOND</td>\n",
       "      <td>377</td>\n",
       "      <td>-0.022868</td>\n",
       "      <td>-0.262894</td>\n",
       "      <td>False</td>\n",
       "      <td>False</td>\n",
       "      <td>False</td>\n",
       "    </tr>\n",
       "    <tr>\n",
       "      <th>3</th>\n",
       "      <td>0.501521</td>\n",
       "      <td>0.007457</td>\n",
       "      <td>-1.387538</td>\n",
       "      <td>-1.225848</td>\n",
       "      <td>2</td>\n",
       "      <td>0</td>\n",
       "      <td>0</td>\n",
       "      <td>-0.108918</td>\n",
       "      <td>0</td>\n",
       "      <td>0</td>\n",
       "      <td>5</td>\n",
       "      <td>GOLD</td>\n",
       "      <td>350</td>\n",
       "      <td>-0.035804</td>\n",
       "      <td>2.936584</td>\n",
       "      <td>False</td>\n",
       "      <td>False</td>\n",
       "      <td>False</td>\n",
       "    </tr>\n",
       "    <tr>\n",
       "      <th>4</th>\n",
       "      <td>2.063884</td>\n",
       "      <td>0.388871</td>\n",
       "      <td>-1.041760</td>\n",
       "      <td>0.785728</td>\n",
       "      <td>1</td>\n",
       "      <td>1</td>\n",
       "      <td>1</td>\n",
       "      <td>-0.365276</td>\n",
       "      <td>0</td>\n",
       "      <td>0</td>\n",
       "      <td>5</td>\n",
       "      <td>GOLD</td>\n",
       "      <td>425</td>\n",
       "      <td>-0.021154</td>\n",
       "      <td>-0.016781</td>\n",
       "      <td>False</td>\n",
       "      <td>True</td>\n",
       "      <td>False</td>\n",
       "    </tr>\n",
       "  </tbody>\n",
       "</table>\n",
       "</div>"
      ],
      "text/plain": [
       "   CreditScore       Age    Tenure   Balance  NumOfProducts  HasCrCard  \\\n",
       "0    -0.326221  0.293517 -1.041760 -1.225848              1          1   \n",
       "1    -0.440036  0.198164 -1.387538  0.117350              1          0   \n",
       "2    -1.536794  0.293517  1.032908  1.333053              3          1   \n",
       "3     0.501521  0.007457 -1.387538 -1.225848              2          0   \n",
       "4     2.063884  0.388871 -1.041760  0.785728              1          1   \n",
       "\n",
       "   IsActiveMember  EstimatedSalary  Exited  Complain  Satisfaction Score  \\\n",
       "0               1         0.021886       1         1                   2   \n",
       "1               1         0.216534       0         1                   3   \n",
       "2               0         0.240687       1         1                   3   \n",
       "3               0        -0.108918       0         0                   5   \n",
       "4               1        -0.365276       0         0                   5   \n",
       "\n",
       "  Card Type  Point Earned  BalanceToSalary  ProductsPerTenure  \\\n",
       "0   DIAMOND           464        -0.035804          -0.016781   \n",
       "1   DIAMOND           456        -0.028930           0.967674   \n",
       "2   DIAMOND           377        -0.022868          -0.262894   \n",
       "3      GOLD           350        -0.035804           2.936584   \n",
       "4      GOLD           425        -0.021154          -0.016781   \n",
       "\n",
       "   Geography_Germany  Geography_Spain  Gender_Male  \n",
       "0              False            False        False  \n",
       "1              False             True        False  \n",
       "2              False            False        False  \n",
       "3              False            False        False  \n",
       "4              False             True        False  "
      ]
     },
     "execution_count": 3,
     "metadata": {},
     "output_type": "execute_result"
    }
   ],
   "source": [
    "# Load your data\n",
    "df = pd.read_csv('C:\\\\Users\\\\saife\\\\OneDrive\\\\Desktop\\\\Graduation\\\\data\\\\processed\\\\data_after_preprocessing.csv')\n",
    "df.head()"
   ]
  },
  {
   "cell_type": "markdown",
   "id": "ab4e2231",
   "metadata": {},
   "source": [
    "## Churn Rate by Tenure\n",
    "Visualize the churn rate segmented by customer tenure."
   ]
  },
  {
   "cell_type": "code",
   "execution_count": 7,
   "id": "8400e14b",
   "metadata": {},
   "outputs": [
    {
     "data": {
      "image/png": "[encoded data removed]",
      "text/plain": [
       "<Figure size 640x480 with 1 Axes>"
      ]
     },
     "metadata": {},
     "output_type": "display_data"
    }
   ],
   "source": [
    "def plot_churn_by_tenure(df):\n",
    "    sns.boxplot(x='Exited', y='Tenure', data=df)\n",
    "    plt.title('Churn by Customer Tenure')\n",
    "    plt.show()\n",
    "\n",
    "# Example usage\n",
    "plot_churn_by_tenure(df)"
   ]
  },
  {
   "cell_type": "markdown",
   "id": "1e54eca3",
   "metadata": {},
   "source": [
    "## Feature Importance Visualization\n",
    "Display the top 10 most important features for churn prediction."
   ]
  },
  {
   "cell_type": "code",
   "execution_count": 8,
   "id": "687e3601",
   "metadata": {},
   "outputs": [
    {
     "data": {
      "image/png": "[encoded data removed]",
      "text/plain": [
       "<Figure size 640x480 with 1 Axes>"
      ]
     },
     "metadata": {},
     "output_type": "display_data"
    }
   ],
   "source": [
    "from sklearn.linear_model import LogisticRegression\n",
    "from sklearn.model_selection import train_test_split\n",
    "\n",
    "# Split the data into features and target\n",
    "X = df.drop(columns=['Exited'])\n",
    "y = df['Exited']\n",
    "\n",
    "# One-hot encode categorical variables\n",
    "X = pd.get_dummies(X, drop_first=True)\n",
    "\n",
    "# Split the data into training and testing sets\n",
    "X_train, X_test, y_train, y_test = train_test_split(X, y, test_size=0.2, random_state=42)\n",
    "\n",
    "# Train a logistic regression model\n",
    "model = LogisticRegression(max_iter=1000)\n",
    "model.fit(X_train, y_train)\n",
    "\n",
    "# Define the function to plot feature importance\n",
    "def plot_feature_importance(importances, feature_names):\n",
    "    importances_series = pd.Series(importances, index=feature_names)\n",
    "    importances_series.nlargest(10).plot(kind='barh')\n",
    "    plt.title('Top 10 Feature Importances')\n",
    "    plt.show()\n",
    "\n",
    "# Example usage\n",
    "plot_feature_importance(model.coef_[0], X.columns)"
   ]
  }
 ],
 "metadata": {
  "kernelspec": {
   "display_name": "base",
   "language": "python",
   "name": "python3"
  },
  "language_info": {
   "codemirror_mode": {
    "name": "ipython",
    "version": 3
   },
   "file_extension": ".py",
   "mimetype": "text/x-python",
   "name": "python",
   "nbconvert_exporter": "python",
   "pygments_lexer": "ipython3",
   "version": "3.12.4"
  }
 },
 "nbformat": 4,
 "nbformat_minor": 5
}
